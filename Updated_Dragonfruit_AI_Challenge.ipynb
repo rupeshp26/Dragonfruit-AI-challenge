{
  "cells": [
    {
      "cell_type": "markdown",
      "source": [
        "# Thank you for the feedback on my last submission. I've made the necessary changes to the notebook towards the end. Please find Updated Part section.\n",
        "\n",
        "\n",
        "\n",
        "\n",
        "\n"
      ],
      "metadata": {
        "id": "n-PCDP3QVsBi"
      }
    },
    {
      "cell_type": "markdown",
      "metadata": {
        "id": "nqhMNSsnbWAX"
      },
      "source": [
        "Thank you for the interesting challenge related to image processing and data storage for microbiological research. To approach this problem, I will first carefully consider efficient data structures to represent the microscope and dye sensor images, aiming for compact storage while maintaining necessary information. Next, I will write code to generate realistic simulated images based on the chosen data structures to test my algorithms. Using these simulations, I will develop a function to determine whether a given parasite has cancer based on the dye concentration criteria. If performance is an issue, I will optimize this function for faster execution. Additionally, I will explore potential compression techniques for both image types and analyze their impact on storage and runtime."
      ]
    },
    {
      "cell_type": "markdown",
      "metadata": {
        "id": "NmNyXnBubWAZ"
      },
      "source": [
        "we need to come up with compact data structures to represent the two types of images: the microscope images and the dye sensor images."
      ]
    },
    {
      "cell_type": "code",
      "execution_count": null,
      "metadata": {
        "trusted": true,
        "id": "wxykvGTzbWAZ"
      },
      "outputs": [],
      "source": [
        "#Resources referred\n",
        "#https://stackoverflow.com/questions/72051723/rle-algorithm-in-python\n",
        "#https://community.arduboy.com/t/quadtree-for-binary-image-compression/9780\n",
        "#https://q-viper.github.io/2021/05/24/coding-run-length-encoding-in-python/\n",
        "#https://medium.com/@ayush.pegasus2801/image-compression-f3c5f5320630\n",
        "#https://github.com/Inspiaaa/QuadTreeImageCompression\n"
      ]
    },
    {
      "cell_type": "markdown",
      "metadata": {
        "id": "du6bRuivbWAa"
      },
      "source": [
        "**Approach for storing Microscope Images**:\n",
        "Since the microscope images consist of a single blob (the parasite) on a background, we can represent them using a compact data structure called a Run-Length Encoding (RLE). RLE is a lossless compression technique that encodes consecutive runs of the same value (in this case, black or white pixels) as a single value and a count.\n",
        "\n",
        "**Worst-Case Storage Size**:\n",
        "For the microscope images, the worst-case storage size would be when the image consists of alternating black and white pixels, resulting in a storage size of approximately\n",
        "\n",
        "The total number of runs in the worst case would be equal to the total number of pixels in the image (rows × cols). Since each run requires 3 bytes of storage, the worst-case storage size for the RLE representation would be:\n",
        "\n",
        "Worst-Case Storage Size = (Number of Runs) × (Size of Each Run)\n",
        "                        = (rows × cols) × 3 bytes. (17 bits)\n",
        "\n",
        "resulting in a storage size of 300,000,000,000 bytes (approximately 300 GB) for a 100,000x100,000 pixel image.\n",
        "\n",
        "**using 4-byte integers aligns with common CPU architectures, which are often optimized for 32-bit or 64-bit operations. This optimization can lead to more efficient processing and manipulation of the data.**"
      ]
    },
    {
      "cell_type": "code",
      "execution_count": null,
      "metadata": {
        "trusted": true,
        "id": "vzzPg4FybWAb"
      },
      "outputs": [],
      "source": [
        "def rle_encode(image):\n",
        "    \"\"\"Encode the image using Run-Length Encoding (RLE).\"\"\"\n",
        "    flat_image = image.flatten()\n",
        "    encoded = []\n",
        "    prev_pixel = flat_image[0]\n",
        "    count = 1\n",
        "    for pixel in flat_image[1:]:\n",
        "        if pixel == prev_pixel:\n",
        "            count += 1\n",
        "        else:\n",
        "            encoded.append((prev_pixel, count))\n",
        "            prev_pixel = pixel\n",
        "            count = 1\n",
        "    encoded.append((prev_pixel, count))\n",
        "    return encoded\n",
        "\n",
        "def rle_decode(encoded, image_size):\n",
        "    \"\"\"Decode RLE encoded data back to the original image.\"\"\"\n",
        "    decoded = np.zeros(image_size[0] * image_size[1], dtype=np.uint8)\n",
        "    current_index = 0\n",
        "    for pixel, count in encoded:\n",
        "        decoded[current_index:current_index+count] = pixel\n",
        "        current_index += count\n",
        "    return decoded.reshape(image_size)\n"
      ]
    },
    {
      "cell_type": "markdown",
      "metadata": {
        "id": "tZkWbs64bWAb"
      },
      "source": [
        "**Approach for Storing Dye Sensor images**: For the dye sensor images, we can leverage the fact that the dye is expected to be present in a relatively small portion of the image (less than 10% for parasites without cancer). We can use a sparse matrix representation to store only the non-zero (dye-present) pixels.\n",
        "\n",
        "For the dye sensor images, the worst-case storage size would be when the entire image is non-zero (all pixels have dye present),\n",
        "\n",
        "**Worst-Case Storage Size** = (Number of Non-Zero Elements) × (Size of Each Non-Zero Element + location for Non-Zero Element)\n",
        "\n",
        "For above implementation\n",
        "\n",
        "Worst-Case Storage Size = 10,000,000,000 × (1 byte + 6 bytes)\n",
        "resulting in a storage size of 700,000,000,000 bytes (approximately 0.7 TB) for a 100,000x100,000 pixel image.\n",
        "\n",
        "**using 4-byte integers aligns with common CPU architectures, which are often optimized for 32-bit or 64-bit operations. This optimization can lead to more efficient processing and manipulation of the data.**\n",
        "\n"
      ]
    },
    {
      "cell_type": "code",
      "execution_count": null,
      "metadata": {
        "trusted": true,
        "id": "X_OWnmsdbWAb"
      },
      "outputs": [],
      "source": [
        "def sparse_encode(image):\n",
        "    \"\"\"Encode image as coordinates of lit dye pixels.\"\"\"\n",
        "    return np.argwhere(image == 1)\n",
        "\n",
        "def sparse_decode(sparse_coords, image_size):\n",
        "    \"\"\"Decode sparse representation to the original dye sensor image.\"\"\"\n",
        "    image = np.zeros(image_size, dtype=np.uint8)\n",
        "    for x, y in sparse_coords:\n",
        "        image[x, y] = 1  # Marking the dye pixel\n",
        "    return image\n"
      ]
    },
    {
      "cell_type": "markdown",
      "metadata": {
        "id": "QsW2VYrrbWAc"
      },
      "source": [
        "**Create “fake” simulated images**\n",
        "Creates a black image with a specified size.\n",
        "Generates a white circular shape (representing a parasite) in the center of the image.\n",
        "Returns the simulated microscope image.\n",
        "simulate_dye_sensor_image(microscope_image):\n",
        "Takes the simulated microscope image as input.\n",
        "Identifies the coordinates of the parasite pixels.\n",
        "Finds the surrounding coordinates of the parasite, excluding the parasite pixels themselves.\n",
        "Randomly selects 10% of the surrounding pixels and sets their values to 1 (representing dye leakage).\n",
        "Returns the simulated dye sensor image with the dye leakage surrounding the parasite."
      ]
    },
    {
      "cell_type": "code",
      "execution_count": null,
      "metadata": {
        "trusted": true,
        "id": "lKi6MiDobWAc"
      },
      "outputs": [],
      "source": [
        "import numpy as np\n",
        "\n",
        "def simulate_microscope_image(size=(100, 100)):\n",
        "    \"\"\"Simulate a microscope image with a circular parasite.\"\"\"\n",
        "    image = np.zeros(size, dtype=np.uint8)\n",
        "    center = (size[0] // 2, size[1] // 2)\n",
        "    radius = min(size) // 4\n",
        "    for x in range(size[0]):\n",
        "        for y in range(size[1]):\n",
        "            if (x - center[0])**2 + (y - center[1])**2 <= radius**2:\n",
        "                image[x, y] = 1  # Parasite\n",
        "    return image\n",
        "\n",
        "def simulate_dye_sensor_image(microscope_image, vein_percentage=0.1, leakage_percentage=0.1):\n",
        "    \"\"\"\n",
        "    Simulate a dye sensor image based on a microscope image with dye in veins and leakage surrounding the parasite.\n",
        "    Both veins and leakage are marked with `1` in the output image.\n",
        "\n",
        "    :param microscope_image: Input microscope image.\n",
        "    :param vein_percentage: Percentage of the parasite's pixels to be randomly selected as containing veins with dye.\n",
        "    :param leakage_percentage: Percentage of the surrounding pixels that will simulate dye leakage.\n",
        "    :return: Simulated dye sensor image.\n",
        "    \"\"\"\n",
        "    # Initialize the dye image with zeros (no dye present initially)\n",
        "    dye_image = np.zeros_like(microscope_image)\n",
        "\n",
        "    # Find the coordinates of the parasite pixels\n",
        "    parasite_coords = np.argwhere(microscope_image == 1)\n",
        "\n",
        "    # Randomly select a subset of parasite pixels to simulate veins\n",
        "    num_veins = int(len(parasite_coords) * vein_percentage)\n",
        "    vein_indices = np.random.choice(len(parasite_coords), size=num_veins, replace=False)\n",
        "    for idx in vein_indices:\n",
        "        x, y = parasite_coords[idx]\n",
        "        dye_image[x, y] = 1  # Mark veins with dye presence\n",
        "\n",
        "    # Create a list of coordinates surrounding the parasite for leakage simulation\n",
        "    surrounding_coords = set()\n",
        "    for x, y in parasite_coords:\n",
        "        for dx in [-1, 0, 1]:\n",
        "            for dy in [-1, 0, 1]:\n",
        "                if dx == dy == 0:\n",
        "                    continue  # Skip the parasite pixel itself\n",
        "                x_new, y_new = x + dx, y + dy\n",
        "                if 0 <= x_new < microscope_image.shape[0] and 0 <= y_new < microscope_image.shape[1]:\n",
        "                    if microscope_image[x_new, y_new] == 0:  # Only consider non-parasite pixels\n",
        "                        surrounding_coords.add((x_new, y_new))\n",
        "\n",
        "    # Simulate dye leakage\n",
        "    leakage_coords = np.random.choice(len(surrounding_coords), size=int(len(surrounding_coords) * leakage_percentage), replace=False)\n",
        "    for idx in leakage_coords:\n",
        "        x, y = list(surrounding_coords)[idx]\n",
        "        dye_image[x, y] = 1  # Mark leakage with dye presence\n",
        "\n",
        "    return dye_image\n",
        "\n",
        "\n"
      ]
    },
    {
      "cell_type": "markdown",
      "metadata": {
        "id": "uUGl99jDbWAc"
      },
      "source": [
        "**Check Cancer**\n",
        "The function calculates the area of the parasite from the run-length encoded microscope image and creates a set of coordinates for pixels belonging to the parasite.\n",
        "It then counts the number of pixels within the parasite area that have a non-zero value in the sparse dye sensor image, indicating the presence of a dye.\n",
        "If the area of dye-lit pixels within the parasite exceeds 10% of the total parasite area, the function returns True, suggesting the presence of cancer."
      ]
    },
    {
      "cell_type": "code",
      "execution_count": null,
      "metadata": {
        "trusted": true,
        "id": "-OKTnoYybWAc"
      },
      "outputs": [],
      "source": [
        "def has_cancer(rle_microscope, sparse_dye_sensor, image_size):\n",
        "    \"\"\"Determine if a parasite has cancer based on RLE and Sparse encoded images.\"\"\"\n",
        "    # Decode the microscope image from RLE to get the actual image\n",
        "    microscope_image = rle_decode(rle_microscope, image_size)\n",
        "\n",
        "    # Initialize a counter for the dye pixels within the parasite\n",
        "    lit_dye_area_in_parasite = 0\n",
        "\n",
        "    # Iterate through each dye pixel coordinate\n",
        "    for x, y in sparse_dye_sensor:\n",
        "        # Increment the counter if the pixel is within the parasite (i.e., microscope_image[x, y] == 1)\n",
        "        if microscope_image[x, y] == 1:\n",
        "            lit_dye_area_in_parasite += 1\n",
        "\n",
        "    # Calculate the total parasite area from the RLE encoded microscope data\n",
        "    parasite_area = sum(count for pixel, count in rle_microscope if pixel == 1)\n",
        "\n",
        "    # Determine if the lit dye area exceeds 10% of the parasite area\n",
        "    return lit_dye_area_in_parasite > 0.1 * parasite_area\n"
      ]
    },
    {
      "cell_type": "code",
      "execution_count": null,
      "metadata": {
        "colab": {
          "base_uri": "https://localhost:8080/",
          "height": 541
        },
        "id": "ggr__7yGbWAd",
        "outputId": "59dbd8a6-ad0c-444a-b158-a5697340ec2d"
      },
      "outputs": [
        {
          "output_type": "stream",
          "name": "stdout",
          "text": [
            "Parasite has cancer: False\n"
          ]
        },
        {
          "output_type": "display_data",
          "data": {
            "text/plain": [
              "<Figure size 1000x500 with 2 Axes>"
            ],
            "image/png": "[encoded data removed]"
          },
          "metadata": {}
        }
      ],
      "source": [
        "import matplotlib.pyplot as plt\n",
        "\n",
        "\n",
        "# Generate simulated images\n",
        "microscope_image_sim = simulate_microscope_image(size=(100, 100))\n",
        "dye_image_sim = simulate_dye_sensor_image(microscope_image_sim)\n",
        "\n",
        "# Encode the images\n",
        "rle_microscope_sim = rle_encode(microscope_image_sim)\n",
        "sparse_dye_sensor_sim = sparse_encode(dye_image_sim)\n",
        "\n",
        "# Determine if the parasite has cancer using the encoded images\n",
        "cancer_status = has_cancer(rle_microscope_sim, sparse_dye_sensor_sim, (100, 100))\n",
        "print(f\"Parasite has cancer: {cancer_status}\")\n",
        "\n",
        "# Plotting the original and decoded images for comparison\n",
        "fig, axes = plt.subplots(1, 2, figsize=(10, 5))\n",
        "axes[0].imshow(microscope_image_sim, cmap='gray')\n",
        "axes[0].set_title('Original Microscope Image')\n",
        "axes[1].imshow(dye_image_sim, cmap='gray')\n",
        "axes[1].set_title('Original Dye Sensor Image')\n",
        "\n",
        "for ax in axes:\n",
        "    ax.axis('off')\n",
        "\n",
        "plt.tight_layout()\n",
        "plt.show()\n"
      ]
    },
    {
      "cell_type": "markdown",
      "metadata": {
        "id": "7weQkdekbWAd"
      },
      "source": [
        "**Optimization** To improve the execution speed of the has_cancer function, we can optimize the way we calculate the lit_dye_area_in_parasite. Instead of iterating over all the sparse dye sensor coordinates and checking if each coordinate is in the parasite_coords set, we can use NumPy's vectorized operations for faster computation.\n",
        "\n",
        "Instead of creating a set of parasite_coords, we create a boolean mask parasite_mask of the same size as the image. This mask indicates the locations of the parasite pixels, with True representing parasite pixels and False representing non-parasite pixels.\n",
        "We iterate over the RLE-encoded microscope image and set the corresponding pixels in parasite_mask to True. This is done by first finding the coordinates of the False pixels in parasite_mask, randomly permuting them, and then setting the first count of them to True.\n",
        "Next, we convert the sparse dye sensor coordinates to a NumPy array dye_sensor_coords.\n",
        "We use NumPy's vectorized operations to filter out the dye sensor coordinates that are within the image bounds and have a corresponding True value in parasite_mask. This gives us the dye_sensor_coords_in_parasite array.\n",
        "Finally, we calculate lit_dye_area_in_parasite as the length of the dye_sensor_coords_in_parasite array, and compare it with 0.1 times the parasite_area to determine if the parasite has cancer or not."
      ]
    },
    {
      "cell_type": "code",
      "execution_count": null,
      "metadata": {
        "trusted": true,
        "id": "3zSI2NWObWAd"
      },
      "outputs": [],
      "source": [
        "import numpy as np\n",
        "\n",
        "def has_cancer_optimized(rle_microscope, sparse_dye_sensor, image_size):\n",
        "    \"\"\"Determine if a parasite has cancer based on RLE and Sparse encoded images.\"\"\"\n",
        "    # Calculate the total parasite area from the RLE-encoded microscope data\n",
        "    parasite_area = sum(count for pixel, count in rle_microscope if pixel == 1)\n",
        "\n",
        "    # Initialize a boolean mask for the entire image\n",
        "    parasite_mask = np.zeros(image_size[0] * image_size[1], dtype=bool)\n",
        "    current_index = 0\n",
        "    for pixel, count in rle_microscope:\n",
        "        if pixel == 1:  # Mark the parasite areas as True\n",
        "            parasite_mask[current_index:current_index+count] = True\n",
        "        current_index += count\n",
        "    parasite_mask = parasite_mask.reshape(image_size)\n",
        "\n",
        "    # Convert sparse dye sensor coordinates to a boolean array indicating presence within the parasite\n",
        "    dye_sensor_coords = np.array(sparse_dye_sensor)\n",
        "    dye_sensor_in_parasite = parasite_mask[dye_sensor_coords[:, 0], dye_sensor_coords[:, 1]]\n",
        "\n",
        "    # Calculate the number of dye sensor pixels that are within the parasite\n",
        "    lit_dye_area_in_parasite = np.sum(dye_sensor_in_parasite)\n",
        "\n",
        "    # Determine if the lit dye area within the parasite exceeds 10% of the parasite area\n",
        "    return lit_dye_area_in_parasite > 0.1 * parasite_area\n"
      ]
    },
    {
      "cell_type": "markdown",
      "metadata": {
        "id": "lR16tjzhbWAd"
      },
      "source": [
        "**Other Compression techniques for both types of images**\n",
        "\n",
        "For **microscope** images (parasite blobs):\n",
        "\n",
        "Dictionary-based compression like LZW may be effective if there are repeating patterns.\n",
        "\n",
        "Quadtree can be used as well but it introduces execution complexities\n",
        "\n",
        "For **dye sensor** images (sparse with scattered colored pixels):\n",
        "\n",
        "Run-length encoding to compress runs of white pixels.\n",
        "Compression techniques trade-off between compression ratio and computational complexity. Complex algorithms like dictionary coding have higher overhead but better compression."
      ]
    },
    {
      "cell_type": "markdown",
      "metadata": {
        "id": "BVB46kEUbWAd"
      },
      "source": [
        "\n",
        "\n",
        "Chunking the Images: Processing the entire 100,000x100,000 image at once would be very memory-intensive. Instead, chunking the image into smaller, more manageable pieces (e.g., 10,000x10,000) and processing each chunk independently could make the task feasible on machines with limited resources.\n"
      ]
    },
    {
      "cell_type": "code",
      "execution_count": null,
      "metadata": {
        "id": "MCWBgRuDbWAd"
      },
      "outputs": [],
      "source": [
        "import numpy as np\n",
        "import time\n",
        "\n",
        "# Parameters for the simulation\n",
        "image_size = (10000, 10000)  # Simulated image size\n",
        "chunk_size = (1000, 1000)  # Size of each chunk\n",
        "fill_rate = 0.05  # Approximate percentage of the image filled with \"dye\"\n",
        "\n",
        "# Generate a simulated sparse image with a specified fill rate\n",
        "def generate_sparse_image(size, fill_rate):\n",
        "    image = np.zeros(size, dtype=np.uint8)\n",
        "    num_fill_pixels = int(np.prod(size) * fill_rate)\n",
        "    fill_positions = np.random.choice(np.prod(size), size=num_fill_pixels, replace=False)\n",
        "    image[np.unravel_index(fill_positions, size)] = 1  # Assume '1' represents dye\n",
        "    return image\n",
        "\n",
        "# Simulate processing a chunk of the image\n",
        "def process_chunk(chunk):\n",
        "    # Simulate some processing by counting dye pixels (value == 1)\n",
        "    dye_pixels = np.sum(chunk)\n",
        "    return dye_pixels\n",
        "\n",
        "# Chunk and process the image\n",
        "def chunk_and_process(image, chunk_size):\n",
        "    chunks_vertical = image.shape[0] // chunk_size[0]\n",
        "    chunks_horizontal = image.shape[1] // chunk_size[1]\n",
        "    dye_pixel_counts = []\n",
        "\n",
        "    for i in range(chunks_vertical):\n",
        "        for j in range(chunks_horizontal):\n",
        "            chunk = image[i*chunk_size[0]:(i+1)*chunk_size[0], j*chunk_size[1]:(j+1)*chunk_size[1]]\n",
        "            dye_pixel_count = process_chunk(chunk)\n",
        "            dye_pixel_counts.append(dye_pixel_count)\n",
        "\n",
        "    return dye_pixel_counts\n"
      ]
    },
    {
      "cell_type": "markdown",
      "source": [
        "# Updated Part - Below is the optimized version of the code leveraging Run-length encoding\n"
      ],
      "metadata": {
        "id": "ou3TG7FM_0yo"
      }
    },
    {
      "cell_type": "markdown",
      "source": [
        "I have experimented with various techniques, such as\n",
        "\n",
        "*  Run-Length Encoding (RLE) for microscale image compression and sparse matrix representation for dye sensor images.\n",
        "*   patch-based image generation followed by RLE compression\n",
        "*   patch-based approaches with RLE applied during generation\n",
        "\n",
        "After careful analysis, it seems that the following **Customized RLE** technique yields the most promising results thus far."
      ],
      "metadata": {
        "id": "drktNkK0SZHD"
      }
    },
    {
      "cell_type": "markdown",
      "source": [
        "The **Microscope_image_generation**() function is designed to generate a simulated microscope image of a parasite. It uses **Run-length Encoding** as data structure. It starts by setting the size of the image to 100,000 and initializing an empty list called image to store the image data. The function then calculates the target area that the parasite should at least cover, which is set to 25% of the total image area. Next, it randomly determines the starting and ending rows for the parasite, as well as the initial column boundaries.\n",
        "\n",
        "Instead of storing all the pixel values of whole image we are only storing activated values using RLE which makes the code more efficient.\n",
        "\n",
        "The function then calculates the number of rows occupied by the parasite and the minimum column size required to meet the target area. It enters a loop that iterates over the rows between the starting and ending rows of the parasite. For each row, a random variable toss is used to determine the direction of the parasite (left to right or right to left). Depending on the value of toss, the start and end columns for the parasite in that row are generated, ensuring that the length of the parasite segment meets the minimum column size requirement. If the end column reaches the last column, the loop is terminated for that row. The start and end columns for the parasite segment in that row are stored in the image list using run-length encoding (RLE), where only the start and end locations are recorded. The column boundaries are then updated for the next row based on the current row's parasite location. Finally, the function returns the image list containing the simulated microscope image, which represents a parasite covering at least 25% of the total image area, with a random shape and location within the specified row range."
      ],
      "metadata": {
        "id": "4VU1ECkM7Fy8"
      }
    },
    {
      "cell_type": "code",
      "source": [
        "# Function to generate simulated microscope images\n",
        "def Microscope_image_generation():\n",
        "   size = 100000  # Set the size of the image\n",
        "   image = [[]] * size  # Initialize a list to store the image\n",
        "\n",
        "   # Ensure generated parasite covers at least 25% of the image area\n",
        "   target = size * size * 0.25  # Target area for the parasite\n",
        "\n",
        "   start = random.randint(0, size * 0.6)  # Random starting row for the parasite\n",
        "   end = random.randint(start + size * 0.4, size)  # Random ending row for the parasite\n",
        "   col_start, col_end = 0, size  # Initialize column boundaries for the parasite\n",
        "   length = end - start + 1  # Number of rows occupied by the parasite\n",
        "   minColSize = math.ceil(target / length)  # Minimum column size required to meet the target area\n",
        "\n",
        "   # Generate a random shape parasite starting at random location\n",
        "   for i in range(start, end):\n",
        "       toss = random.randint(0, size)  # Random variable to determine the direction of the parasite\n",
        "       body_start, body_end = 0, 0\n",
        "\n",
        "       if toss % 2 == 0:\n",
        "           # Generate the parasite from left to right\n",
        "           while body_end - body_start + 1 < minColSize:\n",
        "               body_start = random.randint(col_start, col_end)  # Random start column\n",
        "               body_end = random.randint(body_start, size)  # Random end column\n",
        "               if body_end == size:\n",
        "                   break  # If the end column is the last column, exit the loop\n",
        "       else:\n",
        "           # Generate the parasite from right to left\n",
        "           while body_end - body_start + 1 < minColSize:\n",
        "               body_start = random.randint(0, col_start)  # Random start column\n",
        "               body_end = random.randint(col_start, size)  # Random end column\n",
        "               if body_end == size:\n",
        "                   break  # If the end column is the last column, exit the loop\n",
        "\n",
        "       # RLE Encoding where we are only storing only start and end location\n",
        "       image[i].append((body_start, body_end))\n",
        "\n",
        "       # Update the column boundaries for the next row\n",
        "       col_start, col_end = body_start, body_end\n",
        "\n",
        "   return image"
      ],
      "metadata": {
        "id": "eR-JlCSLmycx"
      },
      "execution_count": 11,
      "outputs": []
    },
    {
      "cell_type": "markdown",
      "source": [
        "The dye_sensor_image_generation function generates a simulated dye image based on a given microscope image. In this simulation, we have to create simulation of **blood Veins** and **leakage** outside the Parasite body. We will randomly generate veins and leakage. As this is a controlled experiment and we need to check if our has_cancer function can correctly identify cancer or not we need to have some way in which we are controlling the amount of veins we have in the dye sensor image even though they are generated randomly. function calculates the target number of dye pixels based on the body (parasite) pixel count, then generates dye segments within the body region and additional dye segments outside the body region. Like microscope image, the dye sensor simulation image data is stored using **Run-length** encoding, where each row contains tuples representing the start and end column indices of the dye segments. The function returns the simulated dye image as a list of lists."
      ],
      "metadata": {
        "id": "6HfqJoZLs4IW"
      }
    },
    {
      "cell_type": "code",
      "source": [
        "# Function to generate the dye sensor image\n",
        "def dye_sensor_image_generation(image, size, flag=False):\n",
        "   dye_image = [[]] * size  # Initialize a list to store the dye image\n",
        "\n",
        "   start, end = -1, -1\n",
        "   body_pixel_count = 0\n",
        "   for i in range(size):\n",
        "       if len(image[i]) > 0:\n",
        "           # Calculate the number of pixels occupied by the body in this row\n",
        "           body_pixel_count = body_pixel_count + image[i][0][1] - image[i][0][0] + 1\n",
        "       if start == -1:\n",
        "           start = i  # Record the starting row of the body\n",
        "       elif start != -1:\n",
        "           end = i  # Record the ending row of the body\n",
        "           break\n",
        "   if end == -1:\n",
        "       end = size - 1  # If body spans the entire image, set end to the last row\n",
        "\n",
        "   # As this is a controlled experiment we need to keep control over number of veins or pixels\n",
        "   # Calculate the target number of pixels for the dye based on the body pixel count\n",
        "   target_dye_pixel_count = int(body_pixel_count * random.uniform(0.05, 0.09))\n",
        "   if flag:\n",
        "       target_dye_pixel_count = math.ceil(body_pixel_count * random.uniform(0.11, 0.15))\n",
        "\n",
        "   minColSize = target_dye_pixel_count / (size * 0.4)  # Minimum column size for the dye\n",
        "\n",
        "   # Generate the dye image within the body region\n",
        "   # Simulate veins through which dye flows\n",
        "   while target_dye_pixel_count > 0:\n",
        "       row = random.randint(start, end - 1)  # Select a random row within the body region\n",
        "       s = random.randint(image[row][0][0], image[row][0][1])  # Select a random start column within the body\n",
        "       x = min(s + minColSize, image[row][0][1])  # Ensure the dye segment doesn't exceed the body boundary\n",
        "       e = random.randint(int(x), image[row][0][1])  # Select a random end column within the body\n",
        "       if e - s + 1 > target_dye_pixel_count:\n",
        "           e = target_dye_pixel_count + s - 1  # Adjust end column if the segment is larger than remaining pixels\n",
        "       dye_image[row].append((s, e))  # Add the dye segment to the dye image\n",
        "       target_dye_pixel_count -= (e - s + 1)  # Update the remaining target pixel count\n",
        "\n",
        "   # Leakage: generate some dye pixels outside the body region\n",
        "   overflow_row_count = random.randint(0, 10)\n",
        "   while overflow_row_count > 0:\n",
        "       overflow_row_count -= 1\n",
        "       row = random.randint(0, size - 1)  # Select a random row\n",
        "       if len(image[row]) > 0:\n",
        "           if row % 2 == 0 and image[row][0][0] != 0:  # Add dye segment to the left of the body\n",
        "               s = random.randint(0, image[row][0][0] - 1)\n",
        "               e = random.randint(s, image[row][0][0] - 1)\n",
        "               dye_image[row].append((s, e))\n",
        "           elif image[row][0][1] != size:  # Add dye segment to the right of the body\n",
        "               s = random.randint(image[row][0][1] + 1, size)\n",
        "               e = random.randint(s, size)\n",
        "               dye_image[row].append((s, e))\n",
        "       else:\n",
        "           # If the row doesn't have a body pixels, add a random dye segment\n",
        "           s = random.randint(0, size)\n",
        "           e = random.randint(s, size)\n",
        "           dye_image[row].append((s, e))\n",
        "\n",
        "   return dye_image"
      ],
      "metadata": {
        "id": "6PDjY_Atmy8y"
      },
      "execution_count": 14,
      "outputs": []
    },
    {
      "cell_type": "markdown",
      "source": [
        "The has_cancer function takes simulated microscope image and a corresponding simulated dye sensor image, and determines if the image has cancer based on the ratio of dye veins pixels inside the parasite body to microscope body pixels. It first calculates the total number of body pixels inside and dye pixels by iterating over each row of the images. For each dye vein segment in a row, it checks if the segment overlaps with the body segment and calculates the number of overlapping pixels accordingly. Finally, it returns True if the number of dye pixels exceeds 10% of the number of body pixels, indicating the presence of cancer."
      ],
      "metadata": {
        "id": "EMYkBZ72v6U1"
      }
    },
    {
      "cell_type": "code",
      "source": [
        "# Function to determine if the parasite has cancer based on dye image\n",
        "def has_cancer(image, dye_image):\n",
        "   image_size = len(image)  # Get the size of the image\n",
        "   body_pixel_count = 0  # Initialize body pixel count\n",
        "   dye_pixel_count = 0  # Initialize dye pixel count\n",
        "\n",
        "   for i in range(image_size):\n",
        "       if len(image[i]) > 0:\n",
        "           # Calculate the number of pixels occupied by the body in this row\n",
        "           body_pixel_count = body_pixel_count + image[i][0][1] - image[i][0][0] + 1\n",
        "\n",
        "       if len(dye_image[i]):\n",
        "           # Iterate over the dye segments in this row\n",
        "           for j in range(len(dye_image[i])):\n",
        "               if dye_image[i][j][1] < image[i][0][0]:\n",
        "                   # Dye segment is entirely to the left of the body, ignore\n",
        "                   pass\n",
        "               elif dye_image[i][j][1] >= image[i][0][0] and dye_image[i][j][1] <= image[i][0][1]:\n",
        "                   # Dye segment overlaps with the body, calculate the overlapping pixels\n",
        "                   dye_pixel_count = dye_pixel_count + dye_image[i][j][1] - max(image[i][0][0], dye_image[i][j][0]) + 1\n",
        "               elif dye_image[i][j][0] >= image[i][0][0] and dye_image[i][j][0] <= image[i][0][1]:\n",
        "                   # Dye segment starts within the body, calculate the overlapping pixels\n",
        "                   dye_pixel_count = dye_pixel_count + min(image[i][0][1], dye_image[i][j][1]) - dye_image[i][j][0] + 1\n",
        "\n",
        "   # Check if the dye pixel count exceeds 10% of the body pixel count\n",
        "   return dye_pixel_count > body_pixel_count * 0.1"
      ],
      "metadata": {
        "id": "kp-cbWjIm5Fq"
      },
      "execution_count": 3,
      "outputs": []
    },
    {
      "cell_type": "markdown",
      "source": [
        "**Computing actual runtime and storage costs**\n",
        "for typical images (not oversimplified image such as a circle for the parasite, or simple\n",
        "straight lines or random points for dye) in code?\n",
        "The estimated RAM usage for processing images of size 100,000x100,000 pixels can be substantial, especially when dealing with uncompressed images. Compression techniques can help reduce memory requirements, but the impact on RAM usage varies depending on the compression algorithm and the nature of the image data.\n",
        "\n",
        "Using **RLE** we are getting below results:\n",
        "\n",
        "\n",
        "*   Execution Time: 0.4548172950744629 seconds\n",
        "*   Storage size of 'Microscope Image' (KB): 781.3046875\n",
        "*   Storage size of 'Dye Sensor Image' (KB): 781.3046875\n",
        "\n",
        "\n",
        "Conducting experiments on real image data can provide more accurate insights into RAM usage for specific scenarios."
      ],
      "metadata": {
        "id": "PTehr27NKM-w"
      }
    },
    {
      "cell_type": "code",
      "source": [
        "import random\n",
        "import math\n",
        "import time\n",
        "import sys\n",
        "\n",
        "# Generate the initial image\n",
        "microscope_image = Microscope_image_generation()\n",
        "\n",
        "# Generate the dye sensor image and we can set flag true if the parasite has cancer or not as this is a controlled experiment\n",
        "dye_sensor_image = dye_sensor_image_generation(microscope_image, 100000, True)\n",
        "\n",
        "# Measure execution time\n",
        "start_time = time.time()\n",
        "# Print whether the image has cancer or not\n",
        "result = has_cancer(microscope_image, dye_sensor_image)\n",
        "end_time = time.time()\n",
        "\n",
        "execution_time = end_time - start_time\n",
        "print(\"Parasite Detected with cancer:\", result)\n",
        "print(\"Execution Time:\", execution_time, \"seconds\")\n",
        "\n",
        "# Print the storage size of 'image' and 'dye_image'\n",
        "print(\"Storage size of 'Microscope Image' (KB):\", sys.getsizeof(microscope_image) / 1024)\n",
        "print(\"Storage size of 'Dye Sensor Image' (KB):\", sys.getsizeof(dye_sensor_image) / 1024)"
      ],
      "metadata": {
        "colab": {
          "base_uri": "https://localhost:8080/"
        },
        "id": "4ymqcJuRm8Ls",
        "outputId": "83c17bc0-e7b4-488f-9a45-a18cd388a436"
      },
      "execution_count": 13,
      "outputs": [
        {
          "output_type": "stream",
          "name": "stdout",
          "text": [
            "Parasite Detected with cancer: True\n",
            "Execution Time: 0.5639255046844482 seconds\n",
            "Storage size of 'Microscope Image' (KB): 781.3046875\n",
            "Storage size of 'Dye Sensor Image' (KB): 781.3046875\n"
          ]
        }
      ]
    },
    {
      "cell_type": "markdown",
      "source": [
        "**Tools I used to tackle the challenge**, I went through articles, blogs, Stack Overflow discussions, and insights from Reddit, Python library documentation for implementation details. Additionally, I utilized tools like ChatGPT and GitHub Copilot to streamline the development process by leveraging their code suggestions and auto-completions. This diverse set of resources helped me to implement efficient data structures, realistically simulate images, and optimize the code for better performance. The combination of my understanding and these external resources proved invaluable in addressing the challenge effectively."
      ],
      "metadata": {
        "id": "NkRDtXN2YbyU"
      }
    }
  ],
  "metadata": {
    "kernelspec": {
      "display_name": "Python (Pyodide)",
      "language": "python",
      "name": "python"
    },
    "language_info": {
      "codemirror_mode": {
        "name": "python",
        "version": 3
      },
      "file_extension": ".py",
      "mimetype": "text/x-python",
      "name": "python",
      "nbconvert_exporter": "python",
      "pygments_lexer": "ipython3",
      "version": "3.8"
    },
    "colab": {
      "provenance": []
    }
  },
  "nbformat": 4,
  "nbformat_minor": 0
}