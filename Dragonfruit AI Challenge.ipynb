{
  "cells": [
    {
      "cell_type": "markdown",
      "metadata": {},
      "source": [
        "Thank you for the interesting challenge related to image processing and data storage for microbiological research. To approach this problem, I will first carefully consider efficient data structures to represent the microscope and dye sensor images, aiming for compact storage while maintaining necessary information. Next, I will write code to generate realistic simulated images based on the chosen data structures to test my algorithms. Using these simulations, I will develop a function to determine whether a given parasite has cancer based on the dye concentration criteria. If performance is an issue, I will optimize this function for faster execution. Additionally, I will explore potential compression techniques for both image types and analyze their impact on storage and runtime. "
      ]
    },
    {
      "cell_type": "markdown",
      "metadata": {},
      "source": [
        "we need to come up with compact data structures to represent the two types of images: the microscope images and the dye sensor images. "
      ]
    },
    {
      "cell_type": "code",
      "execution_count": 2,
      "metadata": {
        "trusted": true
      },
      "outputs": [],
      "source": [
        "#Resources referred\n",
        "#https://stackoverflow.com/questions/72051723/rle-algorithm-in-python\n",
        "#https://community.arduboy.com/t/quadtree-for-binary-image-compression/9780\n",
        "#https://q-viper.github.io/2021/05/24/coding-run-length-encoding-in-python/\n",
        "#https://medium.com/@ayush.pegasus2801/image-compression-f3c5f5320630\n",
        "#https://github.com/Inspiaaa/QuadTreeImageCompression\n"
      ]
    },
    {
      "cell_type": "markdown",
      "metadata": {},
      "source": [
        "**Approach for storing Microscope Images**:\n",
        "Since the microscope images consist of a single blob (the parasite) on a background, we can represent them using a compact data structure called a Run-Length Encoding (RLE). RLE is a lossless compression technique that encodes consecutive runs of the same value (in this case, black or white pixels) as a single value and a count.\n",
        "\n",
        "**Worst-Case Storage Size**:\n",
        "For the microscope images, the worst-case storage size would be when the image consists of alternating black and white pixels, resulting in a storage size of approximately\n",
        "\n",
        "The total number of runs in the worst case would be equal to the total number of pixels in the image (rows × cols). Since each run requires 3 bytes of storage, the worst-case storage size for the RLE representation would be:\n",
        "\n",
        "Worst-Case Storage Size = (Number of Runs) × (Size of Each Run)\n",
        "                        = (rows × cols) × 3 bytes. (17 bits)\n",
        "\n",
        "resulting in a storage size of 300,000,000,000 bytes (approximately 300 GB) for a 100,000x100,000 pixel image.\n",
        "\n",
        "**using 4-byte integers aligns with common CPU architectures, which are often optimized for 32-bit or 64-bit operations. This optimization can lead to more efficient processing and manipulation of the data.**"
      ]
    },
    {
      "cell_type": "code",
      "execution_count": 3,
      "metadata": {
        "trusted": true
      },
      "outputs": [],
      "source": [
        "def rle_encode(image):\n",
        "    \"\"\"Encode the image using Run-Length Encoding (RLE).\"\"\"\n",
        "    flat_image = image.flatten()\n",
        "    encoded = []\n",
        "    prev_pixel = flat_image[0]\n",
        "    count = 1\n",
        "    for pixel in flat_image[1:]:\n",
        "        if pixel == prev_pixel:\n",
        "            count += 1\n",
        "        else:\n",
        "            encoded.append((prev_pixel, count))\n",
        "            prev_pixel = pixel\n",
        "            count = 1\n",
        "    encoded.append((prev_pixel, count)) \n",
        "    return encoded\n",
        "\n",
        "def rle_decode(encoded, image_size):\n",
        "    \"\"\"Decode RLE encoded data back to the original image.\"\"\"\n",
        "    decoded = np.zeros(image_size[0] * image_size[1], dtype=np.uint8)\n",
        "    current_index = 0\n",
        "    for pixel, count in encoded:\n",
        "        decoded[current_index:current_index+count] = pixel\n",
        "        current_index += count\n",
        "    return decoded.reshape(image_size)\n"
      ]
    },
    {
      "cell_type": "markdown",
      "metadata": {},
      "source": [
        "**Approach for Storing Dye Sensor images**: For the dye sensor images, we can leverage the fact that the dye is expected to be present in a relatively small portion of the image (less than 10% for parasites without cancer). We can use a sparse matrix representation to store only the non-zero (dye-present) pixels.\n",
        "\n",
        "For the dye sensor images, the worst-case storage size would be when the entire image is non-zero (all pixels have dye present), \n",
        "\n",
        "**Worst-Case Storage Size** = (Number of Non-Zero Elements) × (Size of Each Non-Zero Element + location for Non-Zero Element)\n",
        "\n",
        "For above implementation\n",
        "\n",
        "Worst-Case Storage Size = 10,000,000,000 × (1 byte + 6 bytes)\n",
        "resulting in a storage size of 700,000,000,000 bytes (approximately 0.7 TB) for a 100,000x100,000 pixel image.\n",
        "\n",
        "**using 4-byte integers aligns with common CPU architectures, which are often optimized for 32-bit or 64-bit operations. This optimization can lead to more efficient processing and manipulation of the data.**\n",
        "\n"
      ]
    },
    {
      "cell_type": "code",
      "execution_count": 4,
      "metadata": {
        "trusted": true
      },
      "outputs": [],
      "source": [
        "def sparse_encode(image):\n",
        "    \"\"\"Encode image as coordinates of lit dye pixels.\"\"\"\n",
        "    return np.argwhere(image == 1)\n",
        "\n",
        "def sparse_decode(sparse_coords, image_size):\n",
        "    \"\"\"Decode sparse representation to the original dye sensor image.\"\"\"\n",
        "    image = np.zeros(image_size, dtype=np.uint8)\n",
        "    for x, y in sparse_coords:\n",
        "        image[x, y] = 1  # Marking the dye pixel\n",
        "    return image\n"
      ]
    },
    {
      "cell_type": "markdown",
      "metadata": {},
      "source": [
        "**Create “fake” simulated images**\n",
        "Creates a black image with a specified size.\n",
        "Generates a white circular shape (representing a parasite) in the center of the image.\n",
        "Returns the simulated microscope image.\n",
        "simulate_dye_sensor_image(microscope_image):\n",
        "Takes the simulated microscope image as input.\n",
        "Identifies the coordinates of the parasite pixels.\n",
        "Finds the surrounding coordinates of the parasite, excluding the parasite pixels themselves.\n",
        "Randomly selects 10% of the surrounding pixels and sets their values to 1 (representing dye leakage).\n",
        "Returns the simulated dye sensor image with the dye leakage surrounding the parasite."
      ]
    },
    {
      "cell_type": "code",
      "execution_count": 5,
      "metadata": {
        "trusted": true
      },
      "outputs": [],
      "source": [
        "import numpy as np\n",
        "\n",
        "def simulate_microscope_image(size=(100, 100)):\n",
        "    \"\"\"Simulate a microscope image with a circular parasite.\"\"\"\n",
        "    image = np.zeros(size, dtype=np.uint8)\n",
        "    center = (size[0] // 2, size[1] // 2)\n",
        "    radius = min(size) // 4\n",
        "    for x in range(size[0]):\n",
        "        for y in range(size[1]):\n",
        "            if (x - center[0])**2 + (y - center[1])**2 <= radius**2:\n",
        "                image[x, y] = 1  # Parasite\n",
        "    return image\n",
        "\n",
        "def simulate_dye_sensor_image(microscope_image):\n",
        "    \"\"\"Simulate a dye sensor image based on a microscope image with dye leakage surrounding the parasite.\"\"\"\n",
        "    dye_image = np.copy(microscope_image)\n",
        "    \n",
        "    # Find the coordinates of the parasite pixels\n",
        "    parasite_coords = np.argwhere(microscope_image == 1)\n",
        "    \n",
        "    # Create a list of coordinates surrounding the parasite\n",
        "    surrounding_coords = []\n",
        "    for x, y in parasite_coords:\n",
        "        for dx in [-1, 0, 1]:\n",
        "            for dy in [-1, 0, 1]:\n",
        "                if dx == dy == 0:\n",
        "                    continue  # Skip the parasite pixel itself\n",
        "                x_new, y_new = x + dx, y + dy\n",
        "                if (\n",
        "                    0 <= x_new < microscope_image.shape[0]\n",
        "                    and 0 <= y_new < microscope_image.shape[1]\n",
        "                ):\n",
        "                    surrounding_coords.append((x_new, y_new))\n",
        "    \n",
        "    # Convert surrounding_coords to a 2D NumPy array and flatten it\n",
        "    surrounding_coords_array = np.array(surrounding_coords).reshape(-1, 2)\n",
        "    \n",
        "    # Simulate dye leakage by setting some surrounding pixels to 1\n",
        "    num_leaks = int(len(surrounding_coords) * 0.1)  # 10% of surrounding pixels leak dye\n",
        "    leak_coords = np.random.choice(surrounding_coords_array.shape[0], size=num_leaks, replace=False)\n",
        "    for idx in leak_coords:\n",
        "        x, y = surrounding_coords_array[idx]\n",
        "        dye_image[x, y] = 1\n",
        "    \n",
        "    return dye_image\n"
      ]
    },
    {
      "cell_type": "markdown",
      "metadata": {},
      "source": [
        "**Check Cancer**\n",
        "The function calculates the area of the parasite from the run-length encoded microscope image and creates a set of coordinates for pixels belonging to the parasite.\n",
        "It then counts the number of pixels within the parasite area that have a non-zero value in the sparse dye sensor image, indicating the presence of a dye.\n",
        "If the area of dye-lit pixels within the parasite exceeds 10% of the total parasite area, the function returns True, suggesting the presence of cancer."
      ]
    },
    {
      "cell_type": "code",
      "execution_count": 6,
      "metadata": {
        "trusted": true
      },
      "outputs": [],
      "source": [
        "def has_cancer(rle_microscope, sparse_dye_sensor, image_size):\n",
        "    \"\"\"Determine if a parasite has cancer based on RLE and Sparse encoded images.\"\"\"\n",
        "    parasite_area = sum(count for pixel, count in rle_microscope if pixel == 1)\n",
        "    parasite_coords = set((i, j) for pixel, count in rle_microscope if pixel == 1 for _ in range(count) for i, j in [(0, 0)] * count)\n",
        "\n",
        "    lit_dye_area_in_parasite = sum(1 for x, y in sparse_dye_sensor if (x, y) in parasite_coords)\n",
        "\n",
        "    return lit_dye_area_in_parasite > 0.1 * parasite_area\n",
        "\n"
      ]
    },
    {
      "cell_type": "code",
      "execution_count": null,
      "metadata": {},
      "outputs": [],
      "source": [
        "import matplotlib.pyplot as plt\n",
        "\n",
        "\n",
        "# Generate simulated images\n",
        "microscope_image_sim = simulate_microscope_image(size=(100, 100))\n",
        "dye_image_sim = simulate_dye_sensor_image(microscope_image_sim)\n",
        "\n",
        "# Encode the images\n",
        "rle_microscope_sim = rle_encode(microscope_image_sim)\n",
        "sparse_dye_sensor_sim = sparse_encode(dye_image_sim)\n",
        "\n",
        "# Determine if the parasite has cancer using the encoded images\n",
        "cancer_status = has_cancer(rle_microscope_sim, sparse_dye_sensor_sim, (100, 100))\n",
        "print(f\"Parasite has cancer: {cancer_status}\")\n",
        "\n",
        "# Plotting the original and decoded images for comparison\n",
        "fig, axes = plt.subplots(1, 2, figsize=(10, 5))\n",
        "axes[0].imshow(microscope_image_sim, cmap='gray')\n",
        "axes[0].set_title('Original Microscope Image')\n",
        "axes[1].imshow(dye_image_sim, cmap='gray')\n",
        "axes[1].set_title('Original Dye Sensor Image')\n",
        "\n",
        "for ax in axes:\n",
        "    ax.axis('off')\n",
        "\n",
        "plt.tight_layout()\n",
        "plt.show()\n"
      ]
    },
    {
      "cell_type": "markdown",
      "metadata": {},
      "source": [
        "**Optimization** To improve the execution speed of the has_cancer function, we can optimize the way we calculate the lit_dye_area_in_parasite. Instead of iterating over all the sparse dye sensor coordinates and checking if each coordinate is in the parasite_coords set, we can use NumPy's vectorized operations for faster computation.\n",
        "\n",
        "Instead of creating a set of parasite_coords, we create a boolean mask parasite_mask of the same size as the image. This mask indicates the locations of the parasite pixels, with True representing parasite pixels and False representing non-parasite pixels.\n",
        "We iterate over the RLE-encoded microscope image and set the corresponding pixels in parasite_mask to True. This is done by first finding the coordinates of the False pixels in parasite_mask, randomly permuting them, and then setting the first count of them to True.\n",
        "Next, we convert the sparse dye sensor coordinates to a NumPy array dye_sensor_coords.\n",
        "We use NumPy's vectorized operations to filter out the dye sensor coordinates that are within the image bounds and have a corresponding True value in parasite_mask. This gives us the dye_sensor_coords_in_parasite array.\n",
        "Finally, we calculate lit_dye_area_in_parasite as the length of the dye_sensor_coords_in_parasite array, and compare it with 0.1 times the parasite_area to determine if the parasite has cancer or not."
      ]
    },
    {
      "cell_type": "code",
      "execution_count": 7,
      "metadata": {
        "trusted": true
      },
      "outputs": [],
      "source": [
        "import numpy as np\n",
        "\n",
        "def has_cancer_optimized(rle_microscope, sparse_dye_sensor, image_size):\n",
        "    \"\"\"Determine if a parasite has cancer based on RLE and Sparse encoded images.\"\"\"\n",
        "    parasite_area = sum(count for pixel, count in rle_microscope if pixel == 1)\n",
        "    \n",
        "    # Create a boolean mask for the parasite area\n",
        "    parasite_mask = np.zeros(image_size, dtype=bool)\n",
        "    for pixel, count in rle_microscope:\n",
        "        if pixel == 1:\n",
        "            parasite_coords = np.argwhere(parasite_mask == False)\n",
        "            parasite_mask.flat[np.random.permutation(len(parasite_coords))[:count]] = True\n",
        "    \n",
        "    # Calculate the lit dye area within the parasite\n",
        "    dye_sensor_coords = np.array(sparse_dye_sensor)\n",
        "    dye_sensor_coords_in_parasite = dye_sensor_coords[np.logical_and(\n",
        "        dye_sensor_coords[:, 0] < image_size[0],\n",
        "        dye_sensor_coords[:, 1] < image_size[1],\n",
        "        parasite_mask[dye_sensor_coords[:, 0], dye_sensor_coords[:, 1]]\n",
        "    )]\n",
        "    lit_dye_area_in_parasite = len(dye_sensor_coords_in_parasite)\n",
        "    \n",
        "    return lit_dye_area_in_parasite > 0.1 * parasite_area"
      ]
    },
    {
      "cell_type": "markdown",
      "metadata": {},
      "source": [
        "**Other Compression techniques for both types of images**\n",
        "\n",
        "For **microscope** images (parasite blobs):\n",
        "\n",
        "Dictionary-based compression like LZW may be effective if there are repeating patterns.\n",
        "\n",
        "Quadtree can be used as well but it introduces execution complexities\n",
        "\n",
        "For **dye sensor** images (sparse with scattered colored pixels):\n",
        "\n",
        "Run-length encoding to compress runs of white pixels.\n",
        "Compression techniques trade-off between compression ratio and computational complexity. Complex algorithms like dictionary coding have higher overhead but better compression."
      ]
    },
    {
      "cell_type": "markdown",
      "metadata": {},
      "source": [
        "**computing actual runtime and storage costs**\n",
        "for typical images (not oversimplified image such as a circle for the parasite, or simple\n",
        "straight lines or random points for dye) in code?\n",
        "The estimated RAM usage for processing images of size 100,000x100,000 pixels can be substantial, especially when dealing with uncompressed images. Compression techniques can help reduce memory requirements, but the impact on RAM usage varies depending on the compression algorithm and the nature of the image data. Conducting experiments on real image data can provide more accurate insights into RAM usage for specific scenarios.\n",
        "\n",
        "Chunking the Images: Processing the entire 100,000x100,000 image at once would be very memory-intensive. Instead, chunking the image into smaller, more manageable pieces (e.g., 10,000x10,000) and processing each chunk independently could make the task feasible on machines with limited resources.\n"
      ]
    },
    {
      "cell_type": "code",
      "execution_count": null,
      "metadata": {},
      "outputs": [],
      "source": [
        "import numpy as np\n",
        "import time\n",
        "\n",
        "# Parameters for the simulation\n",
        "image_size = (10000, 10000)  # Simulated image size\n",
        "chunk_size = (1000, 1000)  # Size of each chunk\n",
        "fill_rate = 0.05  # Approximate percentage of the image filled with \"dye\"\n",
        "\n",
        "# Generate a simulated sparse image with a specified fill rate\n",
        "def generate_sparse_image(size, fill_rate):\n",
        "    image = np.zeros(size, dtype=np.uint8)\n",
        "    num_fill_pixels = int(np.prod(size) * fill_rate)\n",
        "    fill_positions = np.random.choice(np.prod(size), size=num_fill_pixels, replace=False)\n",
        "    image[np.unravel_index(fill_positions, size)] = 1  # Assume '1' represents dye\n",
        "    return image\n",
        "\n",
        "# Simulate processing a chunk of the image\n",
        "def process_chunk(chunk):\n",
        "    # Simulate some processing by counting dye pixels (value == 1)\n",
        "    dye_pixels = np.sum(chunk)\n",
        "    return dye_pixels\n",
        "\n",
        "# Chunk and process the image\n",
        "def chunk_and_process(image, chunk_size):\n",
        "    chunks_vertical = image.shape[0] // chunk_size[0]\n",
        "    chunks_horizontal = image.shape[1] // chunk_size[1]\n",
        "    dye_pixel_counts = []\n",
        "\n",
        "    for i in range(chunks_vertical):\n",
        "        for j in range(chunks_horizontal):\n",
        "            chunk = image[i*chunk_size[0]:(i+1)*chunk_size[0], j*chunk_size[1]:(j+1)*chunk_size[1]]\n",
        "            dye_pixel_count = process_chunk(chunk)\n",
        "            dye_pixel_counts.append(dye_pixel_count)\n",
        "    \n",
        "    return dye_pixel_counts\n"
      ]
    },
    {
      "cell_type": "code",
      "execution_count": 8,
      "metadata": {
        "trusted": true
      },
      "outputs": [
        {
          "name": "stdout",
          "output_type": "stream",
          "text": [
            "Parasite has cancer: False\n"
          ]
        },
        {
          "data": {
            "image/png": "[encoded data removed]",
            "text/plain": [
              "<Figure size 1000x500 with 2 Axes>"
            ]
          },
          "metadata": {},
          "output_type": "display_data"
        }
      ],
      "source": []
    },
    {
      "cell_type": "markdown",
      "metadata": {},
      "source": [
        "**Tools I used to tackle the challenge**, I went through articles, blogs, Stack Overflow discussions, and insights from Reddit, Python library documentation for implementation details. Additionally, I utilized tools like ChatGPT and GitHub Copilot to streamline the development process by leveraging their code suggestions and auto-completions. This diverse set of resources helped me to implement efficient data structures, realistically simulate images, and optimize the code for better performance. The combination of my understanding and these external resources proved invaluable in addressing the challenge effectively."
      ]
    },
    {
      "cell_type": "code",
      "execution_count": null,
      "metadata": {
        "trusted": true
      },
      "outputs": [],
      "source": []
    }
  ],
  "metadata": {
    "kernelspec": {
      "display_name": "Python (Pyodide)",
      "language": "python",
      "name": "python"
    },
    "language_info": {
      "codemirror_mode": {
        "name": "python",
        "version": 3
      },
      "file_extension": ".py",
      "mimetype": "text/x-python",
      "name": "python",
      "nbconvert_exporter": "python",
      "pygments_lexer": "ipython3",
      "version": "3.8"
    }
  },
  "nbformat": 4,
  "nbformat_minor": 4
}
